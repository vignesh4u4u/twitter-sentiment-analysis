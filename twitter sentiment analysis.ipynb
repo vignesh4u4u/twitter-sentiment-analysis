{
 "cells": [
  {
   "cell_type": "markdown",
   "id": "fd8437b3",
   "metadata": {},
   "source": [
    "## step1:\n",
    " * understand the problem.\n",
    "     * classify the given tweets data in positive comment or negative comment or neutral comment"
   ]
  },
  {
   "cell_type": "markdown",
   "id": "eaae23f8",
   "metadata": {},
   "source": [
    "## step2:\n",
    "* load the need libraries.."
   ]
  },
  {
   "cell_type": "code",
   "execution_count": 1,
   "id": "063cc5b6",
   "metadata": {},
   "outputs": [],
   "source": [
    "import pandas as pd\n",
    "import numpy as np\n",
    "import matplotlib.pyplot as plt\n",
    "import seaborn as sns\n",
    "from sklearn.naive_bayes import MultinomialNB,BernoulliNB\n",
    "from sklearn.preprocessing import LabelEncoder,OneHotEncoder,StandardScaler,MinMaxScaler\n",
    "from sklearn.model_selection import train_test_split\n",
    "from imblearn.over_sampling import SMOTE,ADASYN\n",
    "from collections import Counter\n",
    "import warnings\n",
    "warnings.filterwarnings(\"ignore\")"
   ]
  },
  {
   "cell_type": "markdown",
   "id": "4e501669",
   "metadata": {},
   "source": [
    "## step3:\n",
    "* load the data.."
   ]
  },
  {
   "cell_type": "code",
   "execution_count": 2,
   "id": "e05897c8",
   "metadata": {},
   "outputs": [
    {
     "data": {
      "text/html": [
       "<div>\n",
       "<style scoped>\n",
       "    .dataframe tbody tr th:only-of-type {\n",
       "        vertical-align: middle;\n",
       "    }\n",
       "\n",
       "    .dataframe tbody tr th {\n",
       "        vertical-align: top;\n",
       "    }\n",
       "\n",
       "    .dataframe thead th {\n",
       "        text-align: right;\n",
       "    }\n",
       "</style>\n",
       "<table border=\"1\" class=\"dataframe\">\n",
       "  <thead>\n",
       "    <tr style=\"text-align: right;\">\n",
       "      <th></th>\n",
       "      <th>clean_text</th>\n",
       "      <th>category</th>\n",
       "    </tr>\n",
       "  </thead>\n",
       "  <tbody>\n",
       "    <tr>\n",
       "      <th>0</th>\n",
       "      <td>when modi promised “minimum government maximum...</td>\n",
       "      <td>-1.0</td>\n",
       "    </tr>\n",
       "    <tr>\n",
       "      <th>1</th>\n",
       "      <td>talk all the nonsense and continue all the dra...</td>\n",
       "      <td>0.0</td>\n",
       "    </tr>\n",
       "    <tr>\n",
       "      <th>2</th>\n",
       "      <td>what did just say vote for modi  welcome bjp t...</td>\n",
       "      <td>1.0</td>\n",
       "    </tr>\n",
       "    <tr>\n",
       "      <th>3</th>\n",
       "      <td>asking his supporters prefix chowkidar their n...</td>\n",
       "      <td>1.0</td>\n",
       "    </tr>\n",
       "    <tr>\n",
       "      <th>4</th>\n",
       "      <td>answer who among these the most powerful world...</td>\n",
       "      <td>1.0</td>\n",
       "    </tr>\n",
       "    <tr>\n",
       "      <th>...</th>\n",
       "      <td>...</td>\n",
       "      <td>...</td>\n",
       "    </tr>\n",
       "    <tr>\n",
       "      <th>162975</th>\n",
       "      <td>why these 456 crores paid neerav modi not reco...</td>\n",
       "      <td>-1.0</td>\n",
       "    </tr>\n",
       "    <tr>\n",
       "      <th>162976</th>\n",
       "      <td>dear rss terrorist payal gawar what about modi...</td>\n",
       "      <td>-1.0</td>\n",
       "    </tr>\n",
       "    <tr>\n",
       "      <th>162977</th>\n",
       "      <td>did you cover her interaction forum where she ...</td>\n",
       "      <td>0.0</td>\n",
       "    </tr>\n",
       "    <tr>\n",
       "      <th>162978</th>\n",
       "      <td>there big project came into india modi dream p...</td>\n",
       "      <td>0.0</td>\n",
       "    </tr>\n",
       "    <tr>\n",
       "      <th>162979</th>\n",
       "      <td>have you ever listen about like gurukul where ...</td>\n",
       "      <td>1.0</td>\n",
       "    </tr>\n",
       "  </tbody>\n",
       "</table>\n",
       "<p>162980 rows × 2 columns</p>\n",
       "</div>"
      ],
      "text/plain": [
       "                                               clean_text  category\n",
       "0       when modi promised “minimum government maximum...      -1.0\n",
       "1       talk all the nonsense and continue all the dra...       0.0\n",
       "2       what did just say vote for modi  welcome bjp t...       1.0\n",
       "3       asking his supporters prefix chowkidar their n...       1.0\n",
       "4       answer who among these the most powerful world...       1.0\n",
       "...                                                   ...       ...\n",
       "162975  why these 456 crores paid neerav modi not reco...      -1.0\n",
       "162976  dear rss terrorist payal gawar what about modi...      -1.0\n",
       "162977  did you cover her interaction forum where she ...       0.0\n",
       "162978  there big project came into india modi dream p...       0.0\n",
       "162979  have you ever listen about like gurukul where ...       1.0\n",
       "\n",
       "[162980 rows x 2 columns]"
      ]
     },
     "metadata": {},
     "output_type": "display_data"
    }
   ],
   "source": [
    "da=pd.read_csv(\"twitter.csv\")\n",
    "df=pd.DataFrame(da)\n",
    "display(df)"
   ]
  },
  {
   "cell_type": "markdown",
   "id": "2b35f7bd",
   "metadata": {},
   "source": [
    "## step 4: data preprocessing.."
   ]
  },
  {
   "cell_type": "code",
   "execution_count": 3,
   "id": "e735a6db",
   "metadata": {},
   "outputs": [
    {
     "data": {
      "text/html": [
       "<div>\n",
       "<style scoped>\n",
       "    .dataframe tbody tr th:only-of-type {\n",
       "        vertical-align: middle;\n",
       "    }\n",
       "\n",
       "    .dataframe tbody tr th {\n",
       "        vertical-align: top;\n",
       "    }\n",
       "\n",
       "    .dataframe thead th {\n",
       "        text-align: right;\n",
       "    }\n",
       "</style>\n",
       "<table border=\"1\" class=\"dataframe\">\n",
       "  <thead>\n",
       "    <tr style=\"text-align: right;\">\n",
       "      <th></th>\n",
       "      <th>clean_text</th>\n",
       "      <th>category</th>\n",
       "    </tr>\n",
       "  </thead>\n",
       "  <tbody>\n",
       "    <tr>\n",
       "      <th>0</th>\n",
       "      <td>when modi promised “minimum government maximum...</td>\n",
       "      <td>-1.0</td>\n",
       "    </tr>\n",
       "    <tr>\n",
       "      <th>1</th>\n",
       "      <td>talk all the nonsense and continue all the dra...</td>\n",
       "      <td>0.0</td>\n",
       "    </tr>\n",
       "    <tr>\n",
       "      <th>2</th>\n",
       "      <td>what did just say vote for modi  welcome bjp t...</td>\n",
       "      <td>1.0</td>\n",
       "    </tr>\n",
       "    <tr>\n",
       "      <th>3</th>\n",
       "      <td>asking his supporters prefix chowkidar their n...</td>\n",
       "      <td>1.0</td>\n",
       "    </tr>\n",
       "    <tr>\n",
       "      <th>4</th>\n",
       "      <td>answer who among these the most powerful world...</td>\n",
       "      <td>1.0</td>\n",
       "    </tr>\n",
       "  </tbody>\n",
       "</table>\n",
       "</div>"
      ],
      "text/plain": [
       "                                          clean_text  category\n",
       "0  when modi promised “minimum government maximum...      -1.0\n",
       "1  talk all the nonsense and continue all the dra...       0.0\n",
       "2  what did just say vote for modi  welcome bjp t...       1.0\n",
       "3  asking his supporters prefix chowkidar their n...       1.0\n",
       "4  answer who among these the most powerful world...       1.0"
      ]
     },
     "execution_count": 3,
     "metadata": {},
     "output_type": "execute_result"
    }
   ],
   "source": [
    "df.head()"
   ]
  },
  {
   "cell_type": "code",
   "execution_count": 4,
   "id": "091c7e79",
   "metadata": {},
   "outputs": [
    {
     "data": {
      "text/html": [
       "<div>\n",
       "<style scoped>\n",
       "    .dataframe tbody tr th:only-of-type {\n",
       "        vertical-align: middle;\n",
       "    }\n",
       "\n",
       "    .dataframe tbody tr th {\n",
       "        vertical-align: top;\n",
       "    }\n",
       "\n",
       "    .dataframe thead th {\n",
       "        text-align: right;\n",
       "    }\n",
       "</style>\n",
       "<table border=\"1\" class=\"dataframe\">\n",
       "  <thead>\n",
       "    <tr style=\"text-align: right;\">\n",
       "      <th></th>\n",
       "      <th>clean_text</th>\n",
       "      <th>category</th>\n",
       "    </tr>\n",
       "  </thead>\n",
       "  <tbody>\n",
       "    <tr>\n",
       "      <th>162975</th>\n",
       "      <td>why these 456 crores paid neerav modi not reco...</td>\n",
       "      <td>-1.0</td>\n",
       "    </tr>\n",
       "    <tr>\n",
       "      <th>162976</th>\n",
       "      <td>dear rss terrorist payal gawar what about modi...</td>\n",
       "      <td>-1.0</td>\n",
       "    </tr>\n",
       "    <tr>\n",
       "      <th>162977</th>\n",
       "      <td>did you cover her interaction forum where she ...</td>\n",
       "      <td>0.0</td>\n",
       "    </tr>\n",
       "    <tr>\n",
       "      <th>162978</th>\n",
       "      <td>there big project came into india modi dream p...</td>\n",
       "      <td>0.0</td>\n",
       "    </tr>\n",
       "    <tr>\n",
       "      <th>162979</th>\n",
       "      <td>have you ever listen about like gurukul where ...</td>\n",
       "      <td>1.0</td>\n",
       "    </tr>\n",
       "  </tbody>\n",
       "</table>\n",
       "</div>"
      ],
      "text/plain": [
       "                                               clean_text  category\n",
       "162975  why these 456 crores paid neerav modi not reco...      -1.0\n",
       "162976  dear rss terrorist payal gawar what about modi...      -1.0\n",
       "162977  did you cover her interaction forum where she ...       0.0\n",
       "162978  there big project came into india modi dream p...       0.0\n",
       "162979  have you ever listen about like gurukul where ...       1.0"
      ]
     },
     "execution_count": 4,
     "metadata": {},
     "output_type": "execute_result"
    }
   ],
   "source": [
    "df.tail()"
   ]
  },
  {
   "cell_type": "code",
   "execution_count": 5,
   "id": "71da709b",
   "metadata": {},
   "outputs": [
    {
     "data": {
      "text/html": [
       "<div>\n",
       "<style scoped>\n",
       "    .dataframe tbody tr th:only-of-type {\n",
       "        vertical-align: middle;\n",
       "    }\n",
       "\n",
       "    .dataframe tbody tr th {\n",
       "        vertical-align: top;\n",
       "    }\n",
       "\n",
       "    .dataframe thead th {\n",
       "        text-align: right;\n",
       "    }\n",
       "</style>\n",
       "<table border=\"1\" class=\"dataframe\">\n",
       "  <thead>\n",
       "    <tr style=\"text-align: right;\">\n",
       "      <th></th>\n",
       "      <th>clean_text</th>\n",
       "      <th>category</th>\n",
       "    </tr>\n",
       "  </thead>\n",
       "  <tbody>\n",
       "    <tr>\n",
       "      <th>76487</th>\n",
       "      <td>seems only few pidis finding the institutions ...</td>\n",
       "      <td>-1.0</td>\n",
       "    </tr>\n",
       "    <tr>\n",
       "      <th>115894</th>\n",
       "      <td>they are chanting nirav modi modi get act righ...</td>\n",
       "      <td>1.0</td>\n",
       "    </tr>\n",
       "    <tr>\n",
       "      <th>105497</th>\n",
       "      <td>modi and yogi are not from last years yogi cam...</td>\n",
       "      <td>0.0</td>\n",
       "    </tr>\n",
       "    <tr>\n",
       "      <th>157165</th>\n",
       "      <td>congratulations honble true patriot honest tru...</td>\n",
       "      <td>1.0</td>\n",
       "    </tr>\n",
       "    <tr>\n",
       "      <th>41861</th>\n",
       "      <td>chowkidar modi join congress defeat congress</td>\n",
       "      <td>0.0</td>\n",
       "    </tr>\n",
       "  </tbody>\n",
       "</table>\n",
       "</div>"
      ],
      "text/plain": [
       "                                               clean_text  category\n",
       "76487   seems only few pidis finding the institutions ...      -1.0\n",
       "115894  they are chanting nirav modi modi get act righ...       1.0\n",
       "105497  modi and yogi are not from last years yogi cam...       0.0\n",
       "157165  congratulations honble true patriot honest tru...       1.0\n",
       "41861        chowkidar modi join congress defeat congress       0.0"
      ]
     },
     "execution_count": 5,
     "metadata": {},
     "output_type": "execute_result"
    }
   ],
   "source": [
    "df.sample(5)"
   ]
  },
  {
   "cell_type": "code",
   "execution_count": 6,
   "id": "a35e1721",
   "metadata": {},
   "outputs": [
    {
     "name": "stdout",
     "output_type": "stream",
     "text": [
      "shape : (162980, 2)\n",
      "size : 325960\n"
     ]
    }
   ],
   "source": [
    "print(\"shape :\",df.shape)\n",
    "print(\"size :\",df.size)"
   ]
  },
  {
   "cell_type": "code",
   "execution_count": 7,
   "id": "28a51c47",
   "metadata": {},
   "outputs": [
    {
     "data": {
      "text/plain": [
       "Index(['clean_text', 'category'], dtype='object')"
      ]
     },
     "execution_count": 7,
     "metadata": {},
     "output_type": "execute_result"
    }
   ],
   "source": [
    "df.columns"
   ]
  },
  {
   "cell_type": "code",
   "execution_count": 8,
   "id": "66cdfb47",
   "metadata": {},
   "outputs": [
    {
     "data": {
      "text/plain": [
       "clean_text     object\n",
       "category      float64\n",
       "dtype: object"
      ]
     },
     "execution_count": 8,
     "metadata": {},
     "output_type": "execute_result"
    }
   ],
   "source": [
    "df.dtypes"
   ]
  },
  {
   "cell_type": "code",
   "execution_count": 9,
   "id": "5513a982",
   "metadata": {},
   "outputs": [
    {
     "data": {
      "text/plain": [
       "array([-1.,  0.,  1., nan])"
      ]
     },
     "execution_count": 9,
     "metadata": {},
     "output_type": "execute_result"
    }
   ],
   "source": [
    "df[\"category\"].unique()"
   ]
  },
  {
   "cell_type": "code",
   "execution_count": 10,
   "id": "138880ab",
   "metadata": {},
   "outputs": [
    {
     "data": {
      "text/plain": [
       " 1.0    72250\n",
       " 0.0    55213\n",
       "-1.0    35510\n",
       "Name: category, dtype: int64"
      ]
     },
     "execution_count": 10,
     "metadata": {},
     "output_type": "execute_result"
    }
   ],
   "source": [
    "df[\"category\"].value_counts()"
   ]
  },
  {
   "cell_type": "code",
   "execution_count": 11,
   "id": "aa5fe99a",
   "metadata": {},
   "outputs": [
    {
     "data": {
      "text/plain": [
       "clean_text    4\n",
       "category      7\n",
       "dtype: int64"
      ]
     },
     "execution_count": 11,
     "metadata": {},
     "output_type": "execute_result"
    }
   ],
   "source": [
    "## missing value check and hanling .\n",
    "df.isna().sum()"
   ]
  },
  {
   "cell_type": "code",
   "execution_count": 12,
   "id": "e9d47492",
   "metadata": {},
   "outputs": [],
   "source": [
    "df[\"category\"].fillna(value=df[\"category\"].median(),inplace=True)"
   ]
  },
  {
   "cell_type": "code",
   "execution_count": 13,
   "id": "8893aaff",
   "metadata": {},
   "outputs": [],
   "source": [
    "df.dropna(inplace=True)"
   ]
  },
  {
   "cell_type": "code",
   "execution_count": 14,
   "id": "829033ec",
   "metadata": {},
   "outputs": [
    {
     "data": {
      "text/plain": [
       "clean_text    0\n",
       "category      0\n",
       "dtype: int64"
      ]
     },
     "execution_count": 14,
     "metadata": {},
     "output_type": "execute_result"
    }
   ],
   "source": [
    "df.isna().sum()"
   ]
  },
  {
   "cell_type": "markdown",
   "id": "5599718e",
   "metadata": {},
   "source": [
    "## EDA analysis.."
   ]
  },
  {
   "cell_type": "code",
   "execution_count": 15,
   "id": "f08ee0b0",
   "metadata": {},
   "outputs": [
    {
     "data": {
      "text/plain": [
       "<AxesSubplot:xlabel='category', ylabel='count'>"
      ]
     },
     "execution_count": 15,
     "metadata": {},
     "output_type": "execute_result"
    },
    {
     "data": {
      "image/png": "[encoded data removed]",
      "text/plain": [
       "<Figure size 432x288 with 1 Axes>"
      ]
     },
     "metadata": {
      "needs_background": "light"
     },
     "output_type": "display_data"
    }
   ],
   "source": [
    "sns.countplot(x=df[\"category\"]) # target is unbalanced dataset..(SMOTE OR ADASYN used to balanced the data.. )"
   ]
  },
  {
   "cell_type": "code",
   "execution_count": 16,
   "id": "b5225e45",
   "metadata": {},
   "outputs": [
    {
     "data": {
      "text/plain": [
       "<AxesSubplot:xlabel='category', ylabel='Count'>"
      ]
     },
     "execution_count": 16,
     "metadata": {},
     "output_type": "execute_result"
    },
    {
     "data": {
      "image/png": "[encoded data removed]",
      "text/plain": [
       "<Figure size 432x288 with 1 Axes>"
      ]
     },
     "metadata": {
      "needs_background": "light"
     },
     "output_type": "display_data"
    }
   ],
   "source": [
    "sns.histplot(x=df[\"category\"],kde=True)"
   ]
  },
  {
   "cell_type": "code",
   "execution_count": 17,
   "id": "737ad6d4",
   "metadata": {},
   "outputs": [
    {
     "data": {
      "text/plain": [
       "<AxesSubplot:ylabel='Density'>"
      ]
     },
     "execution_count": 17,
     "metadata": {},
     "output_type": "execute_result"
    },
    {
     "data": {
      "image/png": "[encoded data removed]",
      "text/plain": [
       "<Figure size 432x288 with 1 Axes>"
      ]
     },
     "metadata": {
      "needs_background": "light"
     },
     "output_type": "display_data"
    }
   ],
   "source": [
    "sns.distplot(x=df[\"category\"],hist=False)"
   ]
  },
  {
   "cell_type": "markdown",
   "id": "28cca9a8",
   "metadata": {},
   "source": [
    "## removing the unnecessary punctuation,tags"
   ]
  },
  {
   "cell_type": "code",
   "execution_count": 18,
   "id": "80bd471a",
   "metadata": {},
   "outputs": [
    {
     "data": {
      "text/plain": [
       "False"
      ]
     },
     "execution_count": 18,
     "metadata": {},
     "output_type": "execute_result"
    }
   ],
   "source": [
    "\"i am vignesh\" == \"i am vignesh.\" \n",
    "# above this sentences all the letter is same only but one difference dot punctutation. (result is false)\n",
    "#this reason also necessary to remove the punctutation."
   ]
  },
  {
   "cell_type": "code",
   "execution_count": 19,
   "id": "ed90a1f5",
   "metadata": {},
   "outputs": [
    {
     "data": {
      "text/plain": [
       "'!\"#$%&\\'()*+,-./:;<=>?@[\\\\]^_`{|}~'"
      ]
     },
     "execution_count": 19,
     "metadata": {},
     "output_type": "execute_result"
    }
   ],
   "source": [
    "## Text include punctuation we want to remove that\n",
    "import string\n",
    "string.punctuation"
   ]
  },
  {
   "cell_type": "code",
   "execution_count": 20,
   "id": "5afbe914",
   "metadata": {},
   "outputs": [],
   "source": [
    "def remove_punc(x):\n",
    "    text=\"\".join([char for char in x if char not in string.punctuation])\n",
    "    return text"
   ]
  },
  {
   "cell_type": "code",
   "execution_count": 21,
   "id": "0cb01470",
   "metadata": {},
   "outputs": [],
   "source": [
    "df[\"text\"]=df['clean_text'].apply(lambda x:remove_punc(x))"
   ]
  },
  {
   "cell_type": "code",
   "execution_count": 22,
   "id": "71122a83",
   "metadata": {},
   "outputs": [
    {
     "data": {
      "text/html": [
       "<div>\n",
       "<style scoped>\n",
       "    .dataframe tbody tr th:only-of-type {\n",
       "        vertical-align: middle;\n",
       "    }\n",
       "\n",
       "    .dataframe tbody tr th {\n",
       "        vertical-align: top;\n",
       "    }\n",
       "\n",
       "    .dataframe thead th {\n",
       "        text-align: right;\n",
       "    }\n",
       "</style>\n",
       "<table border=\"1\" class=\"dataframe\">\n",
       "  <thead>\n",
       "    <tr style=\"text-align: right;\">\n",
       "      <th></th>\n",
       "      <th>clean_text</th>\n",
       "      <th>category</th>\n",
       "      <th>text</th>\n",
       "    </tr>\n",
       "  </thead>\n",
       "  <tbody>\n",
       "    <tr>\n",
       "      <th>0</th>\n",
       "      <td>when modi promised “minimum government maximum...</td>\n",
       "      <td>-1.0</td>\n",
       "      <td>when modi promised “minimum government maximum...</td>\n",
       "    </tr>\n",
       "    <tr>\n",
       "      <th>1</th>\n",
       "      <td>talk all the nonsense and continue all the dra...</td>\n",
       "      <td>0.0</td>\n",
       "      <td>talk all the nonsense and continue all the dra...</td>\n",
       "    </tr>\n",
       "    <tr>\n",
       "      <th>2</th>\n",
       "      <td>what did just say vote for modi  welcome bjp t...</td>\n",
       "      <td>1.0</td>\n",
       "      <td>what did just say vote for modi  welcome bjp t...</td>\n",
       "    </tr>\n",
       "    <tr>\n",
       "      <th>3</th>\n",
       "      <td>asking his supporters prefix chowkidar their n...</td>\n",
       "      <td>1.0</td>\n",
       "      <td>asking his supporters prefix chowkidar their n...</td>\n",
       "    </tr>\n",
       "    <tr>\n",
       "      <th>4</th>\n",
       "      <td>answer who among these the most powerful world...</td>\n",
       "      <td>1.0</td>\n",
       "      <td>answer who among these the most powerful world...</td>\n",
       "    </tr>\n",
       "    <tr>\n",
       "      <th>...</th>\n",
       "      <td>...</td>\n",
       "      <td>...</td>\n",
       "      <td>...</td>\n",
       "    </tr>\n",
       "    <tr>\n",
       "      <th>162975</th>\n",
       "      <td>why these 456 crores paid neerav modi not reco...</td>\n",
       "      <td>-1.0</td>\n",
       "      <td>why these 456 crores paid neerav modi not reco...</td>\n",
       "    </tr>\n",
       "    <tr>\n",
       "      <th>162976</th>\n",
       "      <td>dear rss terrorist payal gawar what about modi...</td>\n",
       "      <td>-1.0</td>\n",
       "      <td>dear rss terrorist payal gawar what about modi...</td>\n",
       "    </tr>\n",
       "    <tr>\n",
       "      <th>162977</th>\n",
       "      <td>did you cover her interaction forum where she ...</td>\n",
       "      <td>0.0</td>\n",
       "      <td>did you cover her interaction forum where she ...</td>\n",
       "    </tr>\n",
       "    <tr>\n",
       "      <th>162978</th>\n",
       "      <td>there big project came into india modi dream p...</td>\n",
       "      <td>0.0</td>\n",
       "      <td>there big project came into india modi dream p...</td>\n",
       "    </tr>\n",
       "    <tr>\n",
       "      <th>162979</th>\n",
       "      <td>have you ever listen about like gurukul where ...</td>\n",
       "      <td>1.0</td>\n",
       "      <td>have you ever listen about like gurukul where ...</td>\n",
       "    </tr>\n",
       "  </tbody>\n",
       "</table>\n",
       "<p>162976 rows × 3 columns</p>\n",
       "</div>"
      ],
      "text/plain": [
       "                                               clean_text  category  \\\n",
       "0       when modi promised “minimum government maximum...      -1.0   \n",
       "1       talk all the nonsense and continue all the dra...       0.0   \n",
       "2       what did just say vote for modi  welcome bjp t...       1.0   \n",
       "3       asking his supporters prefix chowkidar their n...       1.0   \n",
       "4       answer who among these the most powerful world...       1.0   \n",
       "...                                                   ...       ...   \n",
       "162975  why these 456 crores paid neerav modi not reco...      -1.0   \n",
       "162976  dear rss terrorist payal gawar what about modi...      -1.0   \n",
       "162977  did you cover her interaction forum where she ...       0.0   \n",
       "162978  there big project came into india modi dream p...       0.0   \n",
       "162979  have you ever listen about like gurukul where ...       1.0   \n",
       "\n",
       "                                                     text  \n",
       "0       when modi promised “minimum government maximum...  \n",
       "1       talk all the nonsense and continue all the dra...  \n",
       "2       what did just say vote for modi  welcome bjp t...  \n",
       "3       asking his supporters prefix chowkidar their n...  \n",
       "4       answer who among these the most powerful world...  \n",
       "...                                                   ...  \n",
       "162975  why these 456 crores paid neerav modi not reco...  \n",
       "162976  dear rss terrorist payal gawar what about modi...  \n",
       "162977  did you cover her interaction forum where she ...  \n",
       "162978  there big project came into india modi dream p...  \n",
       "162979  have you ever listen about like gurukul where ...  \n",
       "\n",
       "[162976 rows x 3 columns]"
      ]
     },
     "execution_count": 22,
     "metadata": {},
     "output_type": "execute_result"
    }
   ],
   "source": [
    "df"
   ]
  },
  {
   "cell_type": "code",
   "execution_count": 23,
   "id": "d58b52a9",
   "metadata": {},
   "outputs": [],
   "source": [
    "df.drop([\"clean_text\"],axis=1,inplace=True)"
   ]
  },
  {
   "cell_type": "code",
   "execution_count": 24,
   "id": "8a9930ec",
   "metadata": {},
   "outputs": [],
   "source": [
    "import re\n",
    "df[\"text\"]=df[\"text\"].replace('“','',regex=True)"
   ]
  },
  {
   "cell_type": "code",
   "execution_count": 25,
   "id": "b8a8ba85",
   "metadata": {},
   "outputs": [
    {
     "data": {
      "text/html": [
       "<div>\n",
       "<style scoped>\n",
       "    .dataframe tbody tr th:only-of-type {\n",
       "        vertical-align: middle;\n",
       "    }\n",
       "\n",
       "    .dataframe tbody tr th {\n",
       "        vertical-align: top;\n",
       "    }\n",
       "\n",
       "    .dataframe thead th {\n",
       "        text-align: right;\n",
       "    }\n",
       "</style>\n",
       "<table border=\"1\" class=\"dataframe\">\n",
       "  <thead>\n",
       "    <tr style=\"text-align: right;\">\n",
       "      <th></th>\n",
       "      <th>category</th>\n",
       "      <th>text</th>\n",
       "    </tr>\n",
       "  </thead>\n",
       "  <tbody>\n",
       "    <tr>\n",
       "      <th>0</th>\n",
       "      <td>-1.0</td>\n",
       "      <td>when modi promised minimum government maximum ...</td>\n",
       "    </tr>\n",
       "    <tr>\n",
       "      <th>1</th>\n",
       "      <td>0.0</td>\n",
       "      <td>talk all the nonsense and continue all the dra...</td>\n",
       "    </tr>\n",
       "    <tr>\n",
       "      <th>2</th>\n",
       "      <td>1.0</td>\n",
       "      <td>what did just say vote for modi  welcome bjp t...</td>\n",
       "    </tr>\n",
       "    <tr>\n",
       "      <th>3</th>\n",
       "      <td>1.0</td>\n",
       "      <td>asking his supporters prefix chowkidar their n...</td>\n",
       "    </tr>\n",
       "    <tr>\n",
       "      <th>4</th>\n",
       "      <td>1.0</td>\n",
       "      <td>answer who among these the most powerful world...</td>\n",
       "    </tr>\n",
       "    <tr>\n",
       "      <th>...</th>\n",
       "      <td>...</td>\n",
       "      <td>...</td>\n",
       "    </tr>\n",
       "    <tr>\n",
       "      <th>162975</th>\n",
       "      <td>-1.0</td>\n",
       "      <td>why these 456 crores paid neerav modi not reco...</td>\n",
       "    </tr>\n",
       "    <tr>\n",
       "      <th>162976</th>\n",
       "      <td>-1.0</td>\n",
       "      <td>dear rss terrorist payal gawar what about modi...</td>\n",
       "    </tr>\n",
       "    <tr>\n",
       "      <th>162977</th>\n",
       "      <td>0.0</td>\n",
       "      <td>did you cover her interaction forum where she ...</td>\n",
       "    </tr>\n",
       "    <tr>\n",
       "      <th>162978</th>\n",
       "      <td>0.0</td>\n",
       "      <td>there big project came into india modi dream p...</td>\n",
       "    </tr>\n",
       "    <tr>\n",
       "      <th>162979</th>\n",
       "      <td>1.0</td>\n",
       "      <td>have you ever listen about like gurukul where ...</td>\n",
       "    </tr>\n",
       "  </tbody>\n",
       "</table>\n",
       "<p>162976 rows × 2 columns</p>\n",
       "</div>"
      ],
      "text/plain": [
       "        category                                               text\n",
       "0           -1.0  when modi promised minimum government maximum ...\n",
       "1            0.0  talk all the nonsense and continue all the dra...\n",
       "2            1.0  what did just say vote for modi  welcome bjp t...\n",
       "3            1.0  asking his supporters prefix chowkidar their n...\n",
       "4            1.0  answer who among these the most powerful world...\n",
       "...          ...                                                ...\n",
       "162975      -1.0  why these 456 crores paid neerav modi not reco...\n",
       "162976      -1.0  dear rss terrorist payal gawar what about modi...\n",
       "162977       0.0  did you cover her interaction forum where she ...\n",
       "162978       0.0  there big project came into india modi dream p...\n",
       "162979       1.0  have you ever listen about like gurukul where ...\n",
       "\n",
       "[162976 rows x 2 columns]"
      ]
     },
     "execution_count": 25,
     "metadata": {},
     "output_type": "execute_result"
    }
   ],
   "source": [
    "df # get the clear data..."
   ]
  },
  {
   "cell_type": "markdown",
   "id": "16d91353",
   "metadata": {},
   "source": [
    "## train the model.."
   ]
  },
  {
   "cell_type": "code",
   "execution_count": 26,
   "id": "97348fdb",
   "metadata": {},
   "outputs": [
    {
     "data": {
      "text/plain": [
       "0         when modi promised minimum government maximum ...\n",
       "1         talk all the nonsense and continue all the dra...\n",
       "2         what did just say vote for modi  welcome bjp t...\n",
       "3         asking his supporters prefix chowkidar their n...\n",
       "4         answer who among these the most powerful world...\n",
       "                                ...                        \n",
       "162975    why these 456 crores paid neerav modi not reco...\n",
       "162976    dear rss terrorist payal gawar what about modi...\n",
       "162977    did you cover her interaction forum where she ...\n",
       "162978    there big project came into india modi dream p...\n",
       "162979    have you ever listen about like gurukul where ...\n",
       "Name: text, Length: 162976, dtype: object"
      ]
     },
     "execution_count": 26,
     "metadata": {},
     "output_type": "execute_result"
    }
   ],
   "source": [
    "x=df.iloc[:,1]\n",
    "x"
   ]
  },
  {
   "cell_type": "code",
   "execution_count": 27,
   "id": "912ec5f9",
   "metadata": {},
   "outputs": [
    {
     "data": {
      "text/plain": [
       "0        -1.0\n",
       "1         0.0\n",
       "2         1.0\n",
       "3         1.0\n",
       "4         1.0\n",
       "         ... \n",
       "162975   -1.0\n",
       "162976   -1.0\n",
       "162977    0.0\n",
       "162978    0.0\n",
       "162979    1.0\n",
       "Name: category, Length: 162976, dtype: float64"
      ]
     },
     "execution_count": 27,
     "metadata": {},
     "output_type": "execute_result"
    }
   ],
   "source": [
    "y=df.iloc[:,0]\n",
    "y"
   ]
  },
  {
   "cell_type": "code",
   "execution_count": null,
   "id": "9b50e001",
   "metadata": {},
   "outputs": [],
   "source": []
  },
  {
   "cell_type": "code",
   "execution_count": 28,
   "id": "0788c49b",
   "metadata": {},
   "outputs": [],
   "source": [
    "# convert the text data into numerical data \n",
    "from sklearn.feature_extraction.text import CountVectorizer,TfidfVectorizer\n",
    "# CountVectorizer- less importance give for all the words\n",
    "# TfidfVectorizer - more importance give for all the words.."
   ]
  },
  {
   "cell_type": "code",
   "execution_count": 29,
   "id": "d8cd3c08",
   "metadata": {},
   "outputs": [],
   "source": [
    "x_train,x_test,y_train,y_test=train_test_split(x,y,test_size=0.10,random_state=2)\n",
    "count=TfidfVectorizer(stop_words=\"english\")\n",
    "x_train=count.fit_transform(x_train)\n",
    "x_test=count.transform(x_test)"
   ]
  },
  {
   "cell_type": "code",
   "execution_count": 30,
   "id": "257a63dd",
   "metadata": {},
   "outputs": [
    {
     "data": {
      "text/plain": [
       "<146678x99859 sparse matrix of type '<class 'numpy.float64'>'\n",
       "\twith 1830541 stored elements in Compressed Sparse Row format>"
      ]
     },
     "execution_count": 30,
     "metadata": {},
     "output_type": "execute_result"
    }
   ],
   "source": [
    "x_train"
   ]
  },
  {
   "cell_type": "code",
   "execution_count": 31,
   "id": "4d487b56",
   "metadata": {},
   "outputs": [],
   "source": [
    "# convert the sparse matrix into dense matrix..\n",
    "#x_train.toarray()"
   ]
  },
  {
   "cell_type": "code",
   "execution_count": 32,
   "id": "083e6025",
   "metadata": {},
   "outputs": [],
   "source": [
    "#convert the imbalance data into balance data..\n",
    "smote=SMOTE(random_state=2)\n",
    "x_sm,y_sm=smote.fit_resample(x_train,y_train)"
   ]
  },
  {
   "cell_type": "code",
   "execution_count": 33,
   "id": "85509e6d",
   "metadata": {},
   "outputs": [
    {
     "name": "stdout",
     "output_type": "stream",
     "text": [
      "before : Counter({1.0: 65002, 0.0: 49715, -1.0: 31961})\n",
      "after : Counter({0.0: 65002, 1.0: 65002, -1.0: 65002})\n"
     ]
    }
   ],
   "source": [
    "print(\"before :\",Counter(y_train))\n",
    "print(\"after :\",Counter(y_sm))"
   ]
  },
  {
   "cell_type": "code",
   "execution_count": 34,
   "id": "0160ef8f",
   "metadata": {},
   "outputs": [],
   "source": [
    "# create the model..\n",
    "from sklearn.metrics import accuracy_score,f1_score,recall_score,precision_score,confusion_matrix\n",
    "model=MultinomialNB()\n",
    "model=model.fit(x_sm,y_sm)\n",
    "predict=model.predict(x_test)\n",
    "accuracy=accuracy_score(y_test,predict)"
   ]
  },
  {
   "cell_type": "code",
   "execution_count": 35,
   "id": "4a138d65",
   "metadata": {},
   "outputs": [
    {
     "data": {
      "text/plain": [
       "0.703521904528163"
      ]
     },
     "execution_count": 35,
     "metadata": {},
     "output_type": "execute_result"
    }
   ],
   "source": [
    "accuracy"
   ]
  },
  {
   "cell_type": "code",
   "execution_count": 36,
   "id": "7c775127",
   "metadata": {},
   "outputs": [
    {
     "name": "stdout",
     "output_type": "stream",
     "text": [
      "test accuracy : 0.703521904528163\n"
     ]
    }
   ],
   "source": [
    "print(\"test accuracy :\",model.score(x_test,y_test))"
   ]
  },
  {
   "cell_type": "code",
   "execution_count": 37,
   "id": "2823aaae",
   "metadata": {},
   "outputs": [
    {
     "name": "stdout",
     "output_type": "stream",
     "text": [
      "train accuracy : 0.8075035110923247\n"
     ]
    }
   ],
   "source": [
    "print(\"train accuracy :\",model.score(x_train,y_train))"
   ]
  },
  {
   "cell_type": "code",
   "execution_count": 38,
   "id": "c2f3a746",
   "metadata": {},
   "outputs": [
    {
     "data": {
      "text/plain": [
       "0.703521904528163"
      ]
     },
     "execution_count": 38,
     "metadata": {},
     "output_type": "execute_result"
    }
   ],
   "source": [
    "bi=BernoulliNB() # binary classification output is supported.\n",
    "model1=MultinomialNB()\n",
    "model1=model1.fit(x_sm,y_sm)\n",
    "model1.score(x_test,y_test)"
   ]
  },
  {
   "cell_type": "code",
   "execution_count": 39,
   "id": "6f67d0d4",
   "metadata": {},
   "outputs": [
    {
     "data": {
      "text/plain": [
       "0.8075035110923247"
      ]
     },
     "execution_count": 39,
     "metadata": {},
     "output_type": "execute_result"
    }
   ],
   "source": [
    "model1.score(x_train,y_train)"
   ]
  },
  {
   "cell_type": "markdown",
   "id": "ef570858",
   "metadata": {},
   "source": [
    "## above method accuracy is overfitting ,so we use reqularization and ensemble technique  to reduce the overffing."
   ]
  },
  {
   "cell_type": "code",
   "execution_count": 40,
   "id": "8f7037e1",
   "metadata": {},
   "outputs": [],
   "source": [
    "from sklearn.linear_model import Lasso,Ridge,ElasticNet,LogisticRegression"
   ]
  },
  {
   "cell_type": "code",
   "execution_count": 41,
   "id": "6cc54be0",
   "metadata": {},
   "outputs": [
    {
     "name": "stdout",
     "output_type": "stream",
     "text": [
      "test accuracy : 0.8807829181494662\n",
      "train accuracy : 0.8892812828099647\n"
     ]
    }
   ],
   "source": [
    "log=LogisticRegression(max_iter=100,C=1,solver=\"liblinear\",penalty=\"l1\")\n",
    "log.fit(x_sm,y_sm)\n",
    "test1=log.score(x_test,y_test)\n",
    "train1=log.score(x_train,y_train)\n",
    "print(\"test accuracy :\",test1)\n",
    "print(\"train accuracy :\",train1)"
   ]
  },
  {
   "cell_type": "code",
   "execution_count": 42,
   "id": "9245984b",
   "metadata": {},
   "outputs": [
    {
     "name": "stdout",
     "output_type": "stream",
     "text": [
      "Enter the msg :hello\n",
      "neutral tweet\n"
     ]
    }
   ],
   "source": [
    "message=input('Enter the msg :')\n",
    "msginput=count.transform([message])\n",
    "predict=log.predict(msginput)\n",
    "if(predict[0]==0): #[0]==1 means [msg]list have only one index value only that reason also given in [0]==1 \n",
    "    print('neutral tweet')\n",
    "elif(predict[0]==-1):\n",
    "    print('negative tweet')\n",
    "elif(predict[0]==1):\n",
    "    print(\"positive tweet\")"
   ]
  },
  {
   "cell_type": "markdown",
   "id": "7bdb9aed",
   "metadata": {},
   "source": [
    "## Result:\n",
    "\n",
    "* logisticregression method get the better accuracy in train and test (88%)\n"
   ]
  },
  {
   "cell_type": "markdown",
   "id": "b625c962",
   "metadata": {},
   "source": [
    "## deployement implementation.."
   ]
  },
  {
   "cell_type": "code",
   "execution_count": 43,
   "id": "fb157d77",
   "metadata": {},
   "outputs": [],
   "source": [
    "import pickle\n",
    "pickle.dump(log,open(\"tweet.pkl\",\"wb\"))"
   ]
  }
 ],
 "metadata": {
  "kernelspec": {
   "display_name": "Python 3 (ipykernel)",
   "language": "python",
   "name": "python3"
  },
  "language_info": {
   "codemirror_mode": {
    "name": "ipython",
    "version": 3
   },
   "file_extension": ".py",
   "mimetype": "text/x-python",
   "name": "python",
   "nbconvert_exporter": "python",
   "pygments_lexer": "ipython3",
   "version": "3.9.12"
  }
 },
 "nbformat": 4,
 "nbformat_minor": 5
}
